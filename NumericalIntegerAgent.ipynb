{
 "cells": [
  {
   "cell_type": "code",
   "execution_count": 19,
   "metadata": {},
   "outputs": [],
   "source": [
    "import numpy as np\n",
    "import random\n",
    "import matplotlib.pyplot as plt"
   ]
  },
  {
   "cell_type": "code",
   "execution_count": 281,
   "metadata": {},
   "outputs": [],
   "source": [
    "def calculate_fitness(agent):\n",
    "    return np.sum(10-(np.abs(agent-7)))"
   ]
  },
  {
   "cell_type": "code",
   "execution_count": 154,
   "metadata": {},
   "outputs": [],
   "source": [
    "def calculate_fitness_array(agents):\n",
    "    fitnesses = np.array([calculate_fitness(agent) for agent in agents])\n",
    "    return fitnesses"
   ]
  },
  {
   "cell_type": "code",
   "execution_count": 163,
   "metadata": {},
   "outputs": [],
   "source": [
    "def calculate_normalized_fitnesses(agents):\n",
    "    fitnesses = calculate_fitness_array(agents)\n",
    "    fitnesses = (fitnesses-np.mean(fitnesses))/np.std(fitnesses)\n",
    "    return fitnesses+2"
   ]
  },
  {
   "cell_type": "code",
   "execution_count": 230,
   "metadata": {},
   "outputs": [],
   "source": [
    "def mutate_agent(agent, rate, bounds):\n",
    "    mutations = np.random.uniform(0,1/rate, size=agent.shape)\n",
    "    mutations[mutations>1] = 0\n",
    "    \n",
    "    agent[mutations!=0] += np.random.normal(0, (bounds[1]-bounds[0])/2.5, mutations[mutations!=0].shape).astype(np.int32)\n",
    "    agent[agent<bounds[0]] = bounds[0]\n",
    "    agent[agent>bounds[1]] = bounds[1]\n",
    "    \n",
    "    return agent"
   ]
  },
  {
   "cell_type": "code",
   "execution_count": 236,
   "metadata": {},
   "outputs": [],
   "source": [
    "def mutate_array(agents, rate, bounds):\n",
    "    mutated_agents = np.array([mutate_agent(agent, rate, bounds) for agent in agents])\n",
    "    return mutated_agents"
   ]
  },
  {
   "cell_type": "code",
   "execution_count": 24,
   "metadata": {},
   "outputs": [],
   "source": [
    "def merge_genes(a, b, n_genes):\n",
    "    merged = np.zeros(shape=(n_genes, int(a.shape[0]/n_genes)))\n",
    "    \n",
    "    genes_a = a.reshape(n_genes, int(a.shape[0]/n_genes))\n",
    "    genes_b = b.reshape(n_genes, int(b.shape[0]/n_genes))\n",
    "    to_merge = np.random.randint(0,2, size=(n_genes))\n",
    "\n",
    "    merged[to_merge == 0] = genes_a[to_merge == 0]\n",
    "    merged[to_merge == 1] = genes_b[to_merge == 1]\n",
    "    \n",
    "    return merged.reshape(-1)"
   ]
  },
  {
   "cell_type": "code",
   "execution_count": 25,
   "metadata": {},
   "outputs": [],
   "source": [
    "def genes_to_rgb(agent):\n",
    "    RGB_driver = agent.reshape(8, 3, int(agent.shape[0]/24))\n",
    "    image_pixels = np.zeros(shape=(1, int(agent.shape[0]/24), 3))\n",
    "    for i, pixel in enumerate(RGB_driver):\n",
    "        for j, channel in enumerate(pixel):\n",
    "            image_pixels[0][i][j] = channel.dot(2**np.arange(channel.size)[::-1])\n",
    "    return image_pixels.astype(int)"
   ]
  },
  {
   "cell_type": "code",
   "execution_count": 208,
   "metadata": {},
   "outputs": [],
   "source": [
    "def show_n_agents(agents, n):\n",
    "    fig, ax = plt.subplots(1,n,figsize=(12,6))\n",
    "    img = []\n",
    "    indices = np.random.randint(0,agents.shape[0], size=(n))\n",
    "    for i, index in enumerate(indices):\n",
    "        ax[i].imshow(agents[index].reshape(8,8), cmap='plasma', vmin=0, vmax=10)\n",
    "        ax[i].axis('off')"
   ]
  },
  {
   "cell_type": "code",
   "execution_count": 328,
   "metadata": {},
   "outputs": [],
   "source": [
    "num_genes = 64 #Representable as 8 pixels of 255 RGB\n",
    "num_agents = 50\n",
    "num_generations = 1000\n",
    "mutation_rate = 0.005\n",
    "agent_bounds = (0,10) #Inclusive"
   ]
  },
  {
   "cell_type": "code",
   "execution_count": 329,
   "metadata": {},
   "outputs": [],
   "source": [
    "current_generation = np.random.randint(agent_bounds[0], agent_bounds[1]+1, size=(num_agents, num_genes))\n",
    "first_generation = np.copy(current_generation)\n",
    "history = []"
   ]
  },
  {
   "cell_type": "code",
   "execution_count": 330,
   "metadata": {},
   "outputs": [
    {
     "data": {
      "image/png": "[encoded data removed]",
      "text/plain": [
       "<Figure size 864x432 with 8 Axes>"
      ]
     },
     "metadata": {
      "needs_background": "light"
     },
     "output_type": "display_data"
    }
   ],
   "source": [
    "show_n_agents(current_generation, 8)"
   ]
  },
  {
   "cell_type": "code",
   "execution_count": 331,
   "metadata": {},
   "outputs": [],
   "source": [
    "for i in range(num_generations):\n",
    "    fitnesses = calculate_normalized_fitnesses(current_generation)\n",
    "    gene_pool = np.array(random.choices(current_generation, weights = fitnesses, k=current_generation.shape[0]*2))\n",
    "\n",
    "    next_generation = np.array([merge_genes(gene_pool[i], gene_pool[i+1], 8) for i in range(int(len(gene_pool)/2))])\n",
    "    next_generation = mutate_array(next_generation, mutation_rate, agent_bounds)\n",
    "                                   \n",
    "    current_generation = next_generation\n",
    "    history.append(np.mean([calculate_fitness(agent) for agent in current_generation])/num_genes)"
   ]
  },
  {
   "cell_type": "code",
   "execution_count": 332,
   "metadata": {},
   "outputs": [
    {
     "data": {
      "image/png": "[encoded data removed]",
      "text/plain": [
       "<Figure size 864x432 with 8 Axes>"
      ]
     },
     "metadata": {
      "needs_background": "light"
     },
     "output_type": "display_data"
    }
   ],
   "source": [
    "show_n_agents(current_generation, 8)"
   ]
  },
  {
   "cell_type": "code",
   "execution_count": 333,
   "metadata": {},
   "outputs": [
    {
     "name": "stdout",
     "output_type": "stream",
     "text": [
      "4.998125 -> 7.004375 in 1000 generations\n"
     ]
    },
    {
     "data": {
      "image/png": "[encoded data removed]",
      "text/plain": [
       "<Figure size 432x288 with 1 Axes>"
      ]
     },
     "metadata": {
      "needs_background": "light"
     },
     "output_type": "display_data"
    }
   ],
   "source": [
    "plt.plot(np.arange(0, len(history)), history);\n",
    "print(f'{np.mean(first_generation.sum(axis=1)/num_genes)} -> {np.mean(current_generation.sum(axis=1)/num_genes)} in {num_generations} generations')"
   ]
  },
  {
   "cell_type": "code",
   "execution_count": null,
   "metadata": {},
   "outputs": [],
   "source": []
  }
 ],
 "metadata": {
  "kernelspec": {
   "display_name": "Python 3",
   "language": "python",
   "name": "python3"
  },
  "language_info": {
   "codemirror_mode": {
    "name": "ipython",
    "version": 3
   },
   "file_extension": ".py",
   "mimetype": "text/x-python",
   "name": "python",
   "nbconvert_exporter": "python",
   "pygments_lexer": "ipython3",
   "version": "3.8.5"
  }
 },
 "nbformat": 4,
 "nbformat_minor": 4
}
