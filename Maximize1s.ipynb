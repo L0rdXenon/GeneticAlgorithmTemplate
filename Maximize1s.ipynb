{
 "cells": [
  {
   "cell_type": "markdown",
   "metadata": {},
   "source": [
    "# This notebook is supposed to be a baseline functioning example of a very simple genetic algorithm. Don't fuck with it and break it."
   ]
  },
  {
   "cell_type": "code",
   "execution_count": 1,
   "metadata": {},
   "outputs": [],
   "source": [
    "import numpy as np\n",
    "import random\n",
    "import matplotlib.pyplot as plt"
   ]
  },
  {
   "cell_type": "code",
   "execution_count": 2,
   "metadata": {},
   "outputs": [],
   "source": [
    "def calculate_fitness(driver):\n",
    "    return np.sum(driver)"
   ]
  },
  {
   "cell_type": "code",
   "execution_count": 3,
   "metadata": {},
   "outputs": [],
   "source": [
    "def calculate_fitness_array(drivers):\n",
    "    fitnesses = [calculate_fitness(driver) for driver in drivers]\n",
    "    return fitnesses - np.min(fitnesses)"
   ]
  },
  {
   "cell_type": "code",
   "execution_count": 4,
   "metadata": {},
   "outputs": [],
   "source": [
    "def mutate_array(drivers, num_mutations):\n",
    "    mutated_genes = np.random.randint(0,2, size=(drivers.shape[0], num_mutations))\n",
    "    mutation_locations = np.random.randint(0, drivers.shape[1], size=(drivers.shape[0], num_mutations))\n",
    "    mutated_drivers = np.copy(drivers)\n",
    "    for i, driver in enumerate(mutated_drivers):\n",
    "        driver[mutation_locations[i]] = mutated_genes[i]\n",
    "    return mutated_drivers"
   ]
  },
  {
   "cell_type": "code",
   "execution_count": 5,
   "metadata": {},
   "outputs": [],
   "source": [
    "def merge_genes(a, b, n_genes):\n",
    "    merged = np.zeros(shape=(n_genes, int(a.shape[0]/n_genes)))\n",
    "    \n",
    "    genes_a = a.reshape(n_genes, int(a.shape[0]/n_genes))\n",
    "    genes_b = b.reshape(n_genes, int(b.shape[0]/n_genes))\n",
    "    to_merge = np.random.randint(0,2, size=(n_genes))\n",
    "\n",
    "    merged[to_merge == 0] = genes_a[to_merge == 0]\n",
    "    merged[to_merge == 1] = genes_b[to_merge == 1]\n",
    "    \n",
    "    return merged.reshape(-1)"
   ]
  },
  {
   "cell_type": "code",
   "execution_count": 6,
   "metadata": {},
   "outputs": [],
   "source": [
    "def genes_to_rgb(agent):\n",
    "    RGB_driver = agent.reshape(8, 3, int(agent.shape[0]/24))\n",
    "    image_pixels = np.zeros(shape=(1, int(agent.shape[0]/24), 3))\n",
    "    for i, pixel in enumerate(RGB_driver):\n",
    "        for j, channel in enumerate(pixel):\n",
    "            image_pixels[0][i][j] = channel.dot(2**np.arange(channel.size)[::-1])\n",
    "    return image_pixels.astype(int)"
   ]
  },
  {
   "cell_type": "code",
   "execution_count": 7,
   "metadata": {},
   "outputs": [],
   "source": [
    "def show_n_agents(agents, n):\n",
    "    img = []\n",
    "    indices = np.random.randint(0,agents.shape[0], size=(n))\n",
    "    for index in indices:\n",
    "        rgb_agent = genes_to_rgb(agents[index])\n",
    "        img.append(rgb_agent[0])\n",
    "    plt.imshow(np.array(img))\n",
    "    plt.axis('off');"
   ]
  },
  {
   "cell_type": "code",
   "execution_count": 8,
   "metadata": {},
   "outputs": [],
   "source": [
    "num_genes = 192 #Representable as 8 pixels of 255 RGB\n",
    "num_drivers = 50\n",
    "num_generations = 250\n",
    "n_mutations = 1"
   ]
  },
  {
   "cell_type": "code",
   "execution_count": 9,
   "metadata": {},
   "outputs": [],
   "source": [
    "current_generation = np.random.randint(0,2, size=(num_drivers, num_genes))\n",
    "first_generation = np.copy(current_generation)\n",
    "history = []"
   ]
  },
  {
   "cell_type": "code",
   "execution_count": 10,
   "metadata": {},
   "outputs": [
    {
     "data": {
      "image/png": "[encoded data removed]",
      "text/plain": [
       "<Figure size 432x288 with 1 Axes>"
      ]
     },
     "metadata": {
      "needs_background": "light"
     },
     "output_type": "display_data"
    }
   ],
   "source": [
    "show_n_agents(current_generation, 8)"
   ]
  },
  {
   "cell_type": "code",
   "execution_count": 11,
   "metadata": {},
   "outputs": [
    {
     "name": "stdout",
     "output_type": "stream",
     "text": [
      "0.5240625\n"
     ]
    }
   ],
   "source": [
    "for i in range(num_generations):\n",
    "    fitnesses = calculate_fitness_array(current_generation)\n",
    "    gene_pool = np.array(random.choices(current_generation, weights = fitnesses, k=current_generation.shape[0]*2))\n",
    "\n",
    "    next_generation = np.array([merge_genes(gene_pool[i], gene_pool[i+1], 24) for i in range(int(len(gene_pool)/2))])\n",
    "    next_generation = mutate_array(next_generation, n_mutations)\n",
    "                                   \n",
    "    current_generation = next_generation\n",
    "   \n",
    "    history.append(np.mean(current_generation))\n",
    "    if(i % 1000 == 0):\n",
    "            print(np.mean(current_generation))"
   ]
  },
  {
   "cell_type": "code",
   "execution_count": 12,
   "metadata": {},
   "outputs": [
    {
     "data": {
      "image/png": "[encoded data removed]",
      "text/plain": [
       "<Figure size 432x288 with 1 Axes>"
      ]
     },
     "metadata": {
      "needs_background": "light"
     },
     "output_type": "display_data"
    }
   ],
   "source": [
    "show_n_agents(current_generation, 8)"
   ]
  },
  {
   "cell_type": "code",
   "execution_count": 13,
   "metadata": {},
   "outputs": [
    {
     "data": {
      "text/plain": [
       "0.5126041666666666"
      ]
     },
     "execution_count": 13,
     "metadata": {},
     "output_type": "execute_result"
    },
    {
     "data": {
      "image/png": "[encoded data removed]",
      "text/plain": [
       "<Figure size 432x288 with 1 Axes>"
      ]
     },
     "metadata": {
      "needs_background": "light"
     },
     "output_type": "display_data"
    }
   ],
   "source": [
    "plt.plot(np.arange(0, len(history)), history);\n",
    "np.mean(first_generation.sum(axis=1)/num_genes)"
   ]
  },
  {
   "cell_type": "code",
   "execution_count": null,
   "metadata": {},
   "outputs": [],
   "source": []
  }
 ],
 "metadata": {
  "kernelspec": {
   "display_name": "Python 3",
   "language": "python",
   "name": "python3"
  },
  "language_info": {
   "codemirror_mode": {
    "name": "ipython",
    "version": 3
   },
   "file_extension": ".py",
   "mimetype": "text/x-python",
   "name": "python",
   "nbconvert_exporter": "python",
   "pygments_lexer": "ipython3",
   "version": "3.8.5"
  }
 },
 "nbformat": 4,
 "nbformat_minor": 4
}
