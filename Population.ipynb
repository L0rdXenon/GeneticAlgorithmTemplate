{
 "cells": [
  {
   "cell_type": "code",
   "execution_count": 6,
   "id": "a069b1a4-fc27-4ab6-9770-e3334926f461",
   "metadata": {},
   "outputs": [],
   "source": [
    "import numpy as np\n",
    "import matplotlib.pyplot as plt"
   ]
  },
  {
   "cell_type": "code",
   "execution_count": 5,
   "id": "0798f196-9b0c-4a86-b196-1571adb6de95",
   "metadata": {},
   "outputs": [],
   "source": [
    "class Population:\n",
    "    def __init__(self, agents=[], agent_length=None, num_agents=None, bounds=None, num_genes=1, starting_bounds=None):\n",
    "        self.agents = agents\n",
    "        self.num_genes = num_genes\n",
    "        \n",
    "        self.fitness_history = []\n",
    "        self.diversity_history = []\n",
    "        self.epoch = 0\n",
    "        \n",
    "        if agent_length == None:\n",
    "            self.agent_length = agents.shape[1]\n",
    "        else:\n",
    "            self.agent_length = agent_length\n",
    "            \n",
    "        if num_agents == None:\n",
    "            self.num_agents = agents.shape[0]\n",
    "        else:\n",
    "            self.num_agents = num_agents\n",
    "            \n",
    "        if bounds == None:\n",
    "            self.bounds = (min(agents), max(agents))\n",
    "        else:\n",
    "            self.bounds = bounds\n",
    "            \n",
    "        if starting_bounds == None:\n",
    "            self.starting_bounds = self.bounds\n",
    "        else:\n",
    "            self.starting_bounds = starting_bounds\n",
    "            \n",
    "        self.reset()\n",
    "        \n",
    "    def reset(self):\n",
    "        self.fitness_history = []\n",
    "        self.diversity_history = []\n",
    "        self.epoch = 0\n",
    "        self.agents = np.random.randint(self.starting_bounds[0], self.starting_bounds[1]+1, size=(self.num_agents, self.agent_length))\n",
    "        \n",
    "    def next_generation(self, agents, mean_fitness = None, mean_diversity = None):\n",
    "        self.agents = agents\n",
    "        self.epoch += 1\n",
    "        if not (mean_fitness is None):\n",
    "            self.fitness_history.append(mean_fitness)\n",
    "        if not (mean_diversity is None):\n",
    "            self.diversity_history.append(mean_diversity)\n",
    "            \n",
    "    def define_visualization_function(self, f):\n",
    "        self.visualize = f\n",
    "        \n",
    "    def display(self):\n",
    "        self.visualize(self)\n",
    "    \n",
    "    def save_img(self, name):\n",
    "        fig = self.visualize(self)\n",
    "        fig.savefig(f'Output/{name}.jpg')\n",
    "        plt.close(fig)"
   ]
  },
  {
   "cell_type": "code",
   "execution_count": null,
   "id": "fb28e1b0-089c-49ff-ad0e-fdac3df2e9b8",
   "metadata": {},
   "outputs": [],
   "source": []
  },
  {
   "cell_type": "code",
   "execution_count": null,
   "id": "e592a916-3703-4287-a46d-978974a7ee2b",
   "metadata": {},
   "outputs": [],
   "source": []
  }
 ],
 "metadata": {
  "kernelspec": {
   "display_name": "Python 3 (ipykernel)",
   "language": "python",
   "name": "python3"
  },
  "language_info": {
   "codemirror_mode": {
    "name": "ipython",
    "version": 3
   },
   "file_extension": ".py",
   "mimetype": "text/x-python",
   "name": "python",
   "nbconvert_exporter": "python",
   "pygments_lexer": "ipython3",
   "version": "3.9.7"
  }
 },
 "nbformat": 4,
 "nbformat_minor": 5
}
