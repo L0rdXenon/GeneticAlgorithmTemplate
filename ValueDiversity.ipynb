{
 "cells": [
  {
   "cell_type": "code",
   "execution_count": 168,
   "metadata": {},
   "outputs": [],
   "source": [
    "import numpy as np\n",
    "import random\n",
    "import matplotlib.pyplot as plt\n",
    "import time"
   ]
  },
  {
   "cell_type": "code",
   "execution_count": 18,
   "metadata": {},
   "outputs": [],
   "source": [
    "def calculate_fitness(agent):\n",
    "    return np.sum(100-(np.abs(agent-7)))"
   ]
  },
  {
   "cell_type": "code",
   "execution_count": 411,
   "metadata": {},
   "outputs": [],
   "source": [
    "def calculate_fitness_array(agents):\n",
    "    fitnesses = np.array([calculate_fitness(agent) for agent in agents])\n",
    "    return fitnesses\n",
    "\n",
    "def calculate_reproduction_chance(agents, epoch=1, value_uniqueness = True):\n",
    "    fitnesses = calculate_fitness_array(agents)\n",
    "    fitnesses = (fitnesses-np.mean(fitnesses))/np.std(fitnesses)\n",
    "    \n",
    "    if value_uniqueness:\n",
    "        gene_uniqueness = np.array([distance(np.mean(agents, axis=1), agent) for agent in agents])\n",
    "        gene_uniqueness = (gene_uniqueness-np.mean(agents))/np.std(gene_uniqueness)\n",
    "\n",
    "        reproduction_chance = fitnesses + (gene_uniqueness * np.sin(2*epoch*np.pi/200))\n",
    "        reproduction_chance = (reproduction_chance-np.mean(reproduction_chance))/np.std(reproduction_chance)\n",
    "\n",
    "        return reproduction_chance+2\n",
    "    \n",
    "    return fitnesses+2\n",
    "\n",
    "def distance(x1, x2):\n",
    "    return np.linalg.norm(x1-x2)\n",
    "\n",
    "def mutate_agent(agent, rate, bounds):\n",
    "    mutations = np.random.uniform(0,1/rate, size=agent.shape)\n",
    "    mutations[mutations>1] = 0\n",
    "    \n",
    "    agent[mutations!=0] += np.random.normal(0, (bounds[1]-bounds[0]) ** 0.4, mutations[mutations!=0].shape).astype(np.int32)\n",
    "    agent[agent<bounds[0]] = bounds[0]\n",
    "    agent[agent>bounds[1]] = bounds[1]\n",
    "    \n",
    "    return agent\n",
    "\n",
    "def mutate_array(agents, rate, bounds):\n",
    "    mutated_agents = np.array([mutate_agent(agent, rate, bounds) for agent in agents])\n",
    "    return mutated_agents\n",
    "\n",
    "def mutate_array(agents, rate, bounds):\n",
    "    mutated_agents = np.array([mutate_agent(agent, rate, bounds) for agent in agents])\n",
    "    return mutated_agents\n",
    "\n",
    "def merge_genes(a, b, n_genes):\n",
    "    merged = np.zeros(shape=(n_genes, int(a.shape[0]/n_genes)))\n",
    "    \n",
    "    genes_a = a.reshape(n_genes, int(a.shape[0]/n_genes))\n",
    "    genes_b = b.reshape(n_genes, int(b.shape[0]/n_genes))\n",
    "    to_merge = np.random.randint(0,2, size=(n_genes))\n",
    "\n",
    "    merged[to_merge == 0] = genes_a[to_merge == 0]\n",
    "    merged[to_merge == 1] = genes_b[to_merge == 1]\n",
    "    \n",
    "    return merged.reshape(-1)\n",
    "\n",
    "def genes_to_rgb(agent):\n",
    "    RGB_driver = agent.reshape(8, 3, int(agent.shape[0]/24))\n",
    "    image_pixels = np.zeros(shape=(1, int(agent.shape[0]/24), 3))\n",
    "    for i, pixel in enumerate(RGB_driver):\n",
    "        for j, channel in enumerate(pixel):\n",
    "            image_pixels[0][i][j] = channel.dot(2**np.arange(channel.size)[::-1])\n",
    "    return image_pixels.astype(int)\n",
    "\n",
    "def show_n_agents(agents, n):\n",
    "    fig, ax = plt.subplots(round(n/8),8,figsize=(12,6))\n",
    "    img = []\n",
    "    indices = np.random.randint(0,agents.shape[0], size=(n))\n",
    "    for i, index in enumerate(indices):\n",
    "        ax[i].imshow(agents[index].reshape(10,10), cmap='plasma', vmin=agent_bounds[0], vmax=agent_bounds[1])\n",
    "        ax[i].axis('off')\n",
    "        \n",
    "def calculate_entropy(agents):\n",
    "    entropy = np.zeros(agents.shape[1])\n",
    "    for col in range(agents.shape[1]):\n",
    "        unique, counts = np.unique(agents[:,col], return_counts=True)\n",
    "        for i, count in enumerate(counts):\n",
    "            entropy[col] += (count/np.sum(counts) * (np.sum(counts) - count)/np.sum(counts))\n",
    "    return np.mean(entropy)"
   ]
  },
  {
   "cell_type": "code",
   "execution_count": 430,
   "metadata": {},
   "outputs": [],
   "source": [
    "num_genes = 100 #Representable as 8 pixels of 255 RGB\n",
    "num_agents = 100\n",
    "num_generations = 1000\n",
    "mutation_rate = 0.01\n",
    "agent_bounds = (0,100) #Inclusive"
   ]
  },
  {
   "cell_type": "code",
   "execution_count": 431,
   "metadata": {},
   "outputs": [],
   "source": [
    "current_generation = np.random.randint(agent_bounds[0], agent_bounds[1]+1, size=(num_agents, num_genes))\n",
    "first_generation = np.copy(current_generation)\n",
    "history = []\n",
    "genetic_diversity = []"
   ]
  },
  {
   "cell_type": "code",
   "execution_count": 432,
   "metadata": {},
   "outputs": [
    {
     "data": {
      "image/png": "[encoded data removed]",
      "text/plain": [
       "<Figure size 864x432 with 8 Axes>"
      ]
     },
     "metadata": {
      "needs_background": "light"
     },
     "output_type": "display_data"
    }
   ],
   "source": [
    "show_n_agents(current_generation, 8)"
   ]
  },
  {
   "cell_type": "code",
   "execution_count": 433,
   "metadata": {},
   "outputs": [],
   "source": [
    "for i in range(num_generations):\n",
    "    fitnesses = calculate_reproduction_chance(current_generation, epoch=i, value_uniqueness=True)\n",
    "    gene_pool = np.array(random.choices(current_generation, weights = fitnesses, k=current_generation.shape[0]*2))\n",
    "\n",
    "    next_generation = np.array([merge_genes(gene_pool[i], gene_pool[i+1], 10) for i in range(int(len(gene_pool)/2))])\n",
    "    next_generation = mutate_array(next_generation, mutation_rate, agent_bounds)\n",
    "                                   \n",
    "    current_generation = next_generation\n",
    "    history.append(np.mean([calculate_fitness(agent) for agent in current_generation])/num_genes)\n",
    "    genetic_diversity.append(np.mean([distance(np.mean(current_generation, axis=1), agent) for agent in current_generation]))"
   ]
  },
  {
   "cell_type": "code",
   "execution_count": 434,
   "metadata": {},
   "outputs": [
    {
     "data": {
      "image/png": "[encoded data removed]",
      "text/plain": [
       "<Figure size 864x432 with 8 Axes>"
      ]
     },
     "metadata": {
      "needs_background": "light"
     },
     "output_type": "display_data"
    }
   ],
   "source": [
    "show_n_agents(current_generation, 8)\n",
    "best = current_generation[np.argmax(calculate_reproduction_chance(current_generation, value_uniqueness=False))]"
   ]
  },
  {
   "cell_type": "code",
   "execution_count": 435,
   "metadata": {},
   "outputs": [
    {
     "name": "stdout",
     "output_type": "stream",
     "text": [
      "Final diversity score: 17.414197622514088\n"
     ]
    },
    {
     "data": {
      "image/png": "[encoded data removed]",
      "text/plain": [
       "<Figure size 864x288 with 2 Axes>"
      ]
     },
     "metadata": {
      "needs_background": "light"
     },
     "output_type": "display_data"
    }
   ],
   "source": [
    "fig, ax = plt.subplots(1,2,figsize=(12,4))\n",
    "ax[0].plot(np.arange(0, len(history)), history)\n",
    "ax[1].plot(np.arange(0, len(genetic_diversity)), genetic_diversity)\n",
    "print(f'Final diversity score: {genetic_diversity[-1]}')"
   ]
  },
  {
   "cell_type": "code",
   "execution_count": 436,
   "metadata": {},
   "outputs": [],
   "source": [
    "current_generation = np.random.randint(agent_bounds[0], agent_bounds[1]+1, size=(num_agents, num_genes))\n",
    "first_generation = np.copy(current_generation)\n",
    "history = []\n",
    "genetic_diversity = []\n",
    "for i in range(num_generations):\n",
    "    fitnesses = calculate_reproduction_chance(current_generation, value_uniqueness = False)\n",
    "    gene_pool = np.array(random.choices(current_generation, weights = fitnesses, k=current_generation.shape[0]*2))\n",
    "\n",
    "    next_generation = np.array([merge_genes(gene_pool[i], gene_pool[i+1], 10) for i in range(int(len(gene_pool)/2))])\n",
    "    next_generation = mutate_array(next_generation, mutation_rate, agent_bounds)\n",
    "                                   \n",
    "    current_generation = next_generation\n",
    "    history.append(np.mean([calculate_fitness(agent) for agent in current_generation])/num_genes)\n",
    "    genetic_diversity.append(np.mean([distance(np.mean(current_generation, axis=1), agent) for agent in current_generation]))"
   ]
  },
  {
   "cell_type": "code",
   "execution_count": 437,
   "metadata": {},
   "outputs": [
    {
     "name": "stdout",
     "output_type": "stream",
     "text": [
      "Final diversity score: 10.710809924664705\n"
     ]
    },
    {
     "data": {
      "image/png": "[encoded data removed]",
      "text/plain": [
       "<Figure size 864x288 with 2 Axes>"
      ]
     },
     "metadata": {
      "needs_background": "light"
     },
     "output_type": "display_data"
    }
   ],
   "source": [
    "best2 = current_generation[np.argmax(calculate_reproduction_chance(current_generation, value_uniqueness=False))]\n",
    "fig, ax = plt.subplots(1,2,figsize=(12,4))\n",
    "ax[0].plot(np.arange(0, len(history)), history)\n",
    "ax[1].plot(np.arange(0, len(genetic_diversity)), genetic_diversity)\n",
    "print(f'Final diversity score: {genetic_diversity[-1]}')"
   ]
  },
  {
   "cell_type": "code",
   "execution_count": 441,
   "metadata": {},
   "outputs": [
    {
     "data": {
      "image/png": "[encoded data removed]",
      "text/plain": [
       "<Figure size 864x432 with 2 Axes>"
      ]
     },
     "metadata": {
      "needs_background": "light"
     },
     "output_type": "display_data"
    }
   ],
   "source": [
    "fig, ax = plt.subplots(1,2,figsize=(12,6))\n",
    "ax[0].imshow(best.reshape(10,10), cmap='plasma', vmin=agent_bounds[0], vmax=agent_bounds[1])\n",
    "ax[0].axis('off')\n",
    "ax[1].imshow(best2.reshape(10,10), cmap='plasma', vmin=agent_bounds[0], vmax=agent_bounds[1])\n",
    "ax[1].axis('off');"
   ]
  },
  {
   "cell_type": "code",
   "execution_count": null,
   "metadata": {},
   "outputs": [],
   "source": []
  },
  {
   "cell_type": "code",
   "execution_count": null,
   "metadata": {},
   "outputs": [],
   "source": []
  },
  {
   "cell_type": "code",
   "execution_count": null,
   "metadata": {},
   "outputs": [],
   "source": []
  }
 ],
 "metadata": {
  "kernelspec": {
   "display_name": "Python 3",
   "language": "python",
   "name": "python3"
  },
  "language_info": {
   "codemirror_mode": {
    "name": "ipython",
    "version": 3
   },
   "file_extension": ".py",
   "mimetype": "text/x-python",
   "name": "python",
   "nbconvert_exporter": "python",
   "pygments_lexer": "ipython3",
   "version": "3.8.5"
  }
 },
 "nbformat": 4,
 "nbformat_minor": 4
}
