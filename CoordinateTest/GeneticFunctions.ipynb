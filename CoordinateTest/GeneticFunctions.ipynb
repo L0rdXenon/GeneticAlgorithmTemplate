{
 "cells": [
  {
   "cell_type": "code",
   "execution_count": null,
   "id": "baf97788-261d-45de-bc1e-281a6678c178",
   "metadata": {},
   "outputs": [],
   "source": [
    "import numpy as np"
   ]
  },
  {
   "cell_type": "code",
   "execution_count": null,
   "id": "aee28710-dcd7-4d6c-966f-e69311732792",
   "metadata": {},
   "outputs": [],
   "source": [
    "def sine(x, period=100, offset=0, max=1):\n",
    "    x = x+offset\n",
    "    return (np.sin(2*x*np.pi/period)/2 + 0.5) * max\n",
    "\n",
    "def sawtooth(x, period=100, offset = 0, max=1):\n",
    "    x = x+offset\n",
    "    return ((x%period)/period) * max\n",
    "\n",
    "def exponentialsawtooth(x, period=100, offset = 0, exponent=2, max=1):\n",
    "    x = x+offset\n",
    "    return (((x%period)/period) ** exponent) * max\n",
    "\n",
    "def exponentialsine(x, period=100, offset = 0, exponent=2, max=1):\n",
    "    x = x+offset\n",
    "    return ((np.sin(2*x*np.pi/period)/2 + 0.5) ** exponent) * max"
   ]
  },
  {
   "cell_type": "code",
   "execution_count": null,
   "id": "711e784b-b4d2-4d22-8598-2e1a77df9cda",
   "metadata": {},
   "outputs": [],
   "source": []
  }
 ],
 "metadata": {
  "kernelspec": {
   "display_name": "Python 3 (ipykernel)",
   "language": "python",
   "name": "python3"
  },
  "language_info": {
   "codemirror_mode": {
    "name": "ipython",
    "version": 3
   },
   "file_extension": ".py",
   "mimetype": "text/x-python",
   "name": "python",
   "nbconvert_exporter": "python",
   "pygments_lexer": "ipython3",
   "version": "3.9.7"
  }
 },
 "nbformat": 4,
 "nbformat_minor": 5
}
